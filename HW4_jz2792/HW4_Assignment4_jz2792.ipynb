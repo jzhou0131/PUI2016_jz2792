{
 "cells": [
  {
   "cell_type": "markdown",
   "metadata": {
    "collapsed": true
   },
   "source": [
    "# Assignment 4:\n",
    "    test if the distribution of ages is the same for \n",
    "    \n",
    "    1) male and female riders\n",
    "    \n",
    "    2) day and night riders\n",
    "    \n",
    "    use 3 tests: KS, Pearson's, Spearman's. \n",
    "    \n",
    "    For the KS do the test with the entire dataset and with a subset 200 times smaller\n",
    "    \n",
    "    Choose a significant threshold for the whole eercise. \n",
    "    \n",
    "    For each test phrase the Null Hypothesis in words.\n",
    "    \n",
    "    Describe the return of the scipy function you use in each case.\n",
    "    \n",
    "    State the result in terms of rejection of the Null."
   ]
  },
  {
   "cell_type": "markdown",
   "metadata": {},
   "source": [
    "Null hypothesis:\n",
    "\n",
    "H0:Age distribution is the same for male and female\n",
    "\n",
    "Aternative hypothesis:\n",
    "\n",
    "Ha:Age distribution is different for male and female\n",
    "\n",
    "Significance level: alpha = 0.05"
   ]
  },
  {
   "cell_type": "code",
   "execution_count": 1,
   "metadata": {
    "collapsed": false,
    "scrolled": true
   },
   "outputs": [
    {
     "name": "stdout",
     "output_type": "stream",
     "text": [
      "Populating the interactive namespace from numpy and matplotlib\n"
     ]
    }
   ],
   "source": [
    "# my usual imports and setups\n",
    "import pylab as pl\n",
    "import pandas as pd\n",
    "import numpy as np\n",
    "#imports downloader\n",
    "from getCitiBikeCSV import getCitiBikeCSV\n",
    "\n",
    "%pylab inline\n",
    "\n",
    "import os\n",
    "#this makes my plots pretty! but it is totally not mandatory to do it\n"
   ]
  },
  {
   "cell_type": "markdown",
   "metadata": {},
   "source": [
    "# I am reading in data from January 2015. It would be a good idea to use data from warmer months, since there are more riders in the warm weather and the more data the smaller the STATISTICAL NOISE. You should use data from multiple months, joining multiple datasets, thus addressing systematic errors as well"
   ]
  },
  {
   "cell_type": "code",
   "execution_count": 2,
   "metadata": {
    "collapsed": false
   },
   "outputs": [
    {
     "name": "stdout",
     "output_type": "stream",
     "text": [
      "Downloading 201501\n",
      "file in place, you can continue\n"
     ]
    }
   ],
   "source": [
    "datestring = '201501'\n",
    "getCitiBikeCSV(datestring)"
   ]
  },
  {
   "cell_type": "code",
   "execution_count": 3,
   "metadata": {
    "collapsed": false
   },
   "outputs": [
    {
     "data": {
      "text/html": [
       "<div>\n",
       "<table border=\"1\" class=\"dataframe\">\n",
       "  <thead>\n",
       "    <tr style=\"text-align: right;\">\n",
       "      <th></th>\n",
       "      <th>tripduration</th>\n",
       "      <th>starttime</th>\n",
       "      <th>stoptime</th>\n",
       "      <th>start station id</th>\n",
       "      <th>start station name</th>\n",
       "      <th>start station latitude</th>\n",
       "      <th>start station longitude</th>\n",
       "      <th>end station id</th>\n",
       "      <th>end station name</th>\n",
       "      <th>end station latitude</th>\n",
       "      <th>end station longitude</th>\n",
       "      <th>bikeid</th>\n",
       "      <th>usertype</th>\n",
       "      <th>birth year</th>\n",
       "      <th>gender</th>\n",
       "    </tr>\n",
       "  </thead>\n",
       "  <tbody>\n",
       "    <tr>\n",
       "      <th>0</th>\n",
       "      <td>1346</td>\n",
       "      <td>1/1/2015 0:01</td>\n",
       "      <td>1/1/2015 0:24</td>\n",
       "      <td>455</td>\n",
       "      <td>1 Ave &amp; E 44 St</td>\n",
       "      <td>40.750020</td>\n",
       "      <td>-73.969053</td>\n",
       "      <td>265</td>\n",
       "      <td>Stanton St &amp; Chrystie St</td>\n",
       "      <td>40.722293</td>\n",
       "      <td>-73.991475</td>\n",
       "      <td>18660</td>\n",
       "      <td>Subscriber</td>\n",
       "      <td>1960.0</td>\n",
       "      <td>2</td>\n",
       "    </tr>\n",
       "    <tr>\n",
       "      <th>1</th>\n",
       "      <td>363</td>\n",
       "      <td>1/1/2015 0:02</td>\n",
       "      <td>1/1/2015 0:08</td>\n",
       "      <td>434</td>\n",
       "      <td>9 Ave &amp; W 18 St</td>\n",
       "      <td>40.743174</td>\n",
       "      <td>-74.003664</td>\n",
       "      <td>482</td>\n",
       "      <td>W 15 St &amp; 7 Ave</td>\n",
       "      <td>40.739355</td>\n",
       "      <td>-73.999318</td>\n",
       "      <td>16085</td>\n",
       "      <td>Subscriber</td>\n",
       "      <td>1963.0</td>\n",
       "      <td>1</td>\n",
       "    </tr>\n",
       "    <tr>\n",
       "      <th>2</th>\n",
       "      <td>346</td>\n",
       "      <td>1/1/2015 0:04</td>\n",
       "      <td>1/1/2015 0:10</td>\n",
       "      <td>491</td>\n",
       "      <td>E 24 St &amp; Park Ave S</td>\n",
       "      <td>40.740964</td>\n",
       "      <td>-73.986022</td>\n",
       "      <td>505</td>\n",
       "      <td>6 Ave &amp; W 33 St</td>\n",
       "      <td>40.749013</td>\n",
       "      <td>-73.988484</td>\n",
       "      <td>20845</td>\n",
       "      <td>Subscriber</td>\n",
       "      <td>1974.0</td>\n",
       "      <td>1</td>\n",
       "    </tr>\n",
       "    <tr>\n",
       "      <th>3</th>\n",
       "      <td>182</td>\n",
       "      <td>1/1/2015 0:04</td>\n",
       "      <td>1/1/2015 0:07</td>\n",
       "      <td>384</td>\n",
       "      <td>Fulton St &amp; Waverly Ave</td>\n",
       "      <td>40.683178</td>\n",
       "      <td>-73.965964</td>\n",
       "      <td>399</td>\n",
       "      <td>Lafayette Ave &amp; St James Pl</td>\n",
       "      <td>40.688515</td>\n",
       "      <td>-73.964763</td>\n",
       "      <td>19610</td>\n",
       "      <td>Subscriber</td>\n",
       "      <td>1969.0</td>\n",
       "      <td>1</td>\n",
       "    </tr>\n",
       "    <tr>\n",
       "      <th>4</th>\n",
       "      <td>969</td>\n",
       "      <td>1/1/2015 0:05</td>\n",
       "      <td>1/1/2015 0:21</td>\n",
       "      <td>474</td>\n",
       "      <td>5 Ave &amp; E 29 St</td>\n",
       "      <td>40.745168</td>\n",
       "      <td>-73.986831</td>\n",
       "      <td>432</td>\n",
       "      <td>E 7 St &amp; Avenue A</td>\n",
       "      <td>40.726218</td>\n",
       "      <td>-73.983799</td>\n",
       "      <td>20197</td>\n",
       "      <td>Subscriber</td>\n",
       "      <td>1977.0</td>\n",
       "      <td>1</td>\n",
       "    </tr>\n",
       "  </tbody>\n",
       "</table>\n",
       "</div>"
      ],
      "text/plain": [
       "   tripduration      starttime       stoptime  start station id  \\\n",
       "0          1346  1/1/2015 0:01  1/1/2015 0:24               455   \n",
       "1           363  1/1/2015 0:02  1/1/2015 0:08               434   \n",
       "2           346  1/1/2015 0:04  1/1/2015 0:10               491   \n",
       "3           182  1/1/2015 0:04  1/1/2015 0:07               384   \n",
       "4           969  1/1/2015 0:05  1/1/2015 0:21               474   \n",
       "\n",
       "        start station name  start station latitude  start station longitude  \\\n",
       "0          1 Ave & E 44 St               40.750020               -73.969053   \n",
       "1          9 Ave & W 18 St               40.743174               -74.003664   \n",
       "2     E 24 St & Park Ave S               40.740964               -73.986022   \n",
       "3  Fulton St & Waverly Ave               40.683178               -73.965964   \n",
       "4          5 Ave & E 29 St               40.745168               -73.986831   \n",
       "\n",
       "   end station id             end station name  end station latitude  \\\n",
       "0             265     Stanton St & Chrystie St             40.722293   \n",
       "1             482              W 15 St & 7 Ave             40.739355   \n",
       "2             505              6 Ave & W 33 St             40.749013   \n",
       "3             399  Lafayette Ave & St James Pl             40.688515   \n",
       "4             432            E 7 St & Avenue A             40.726218   \n",
       "\n",
       "   end station longitude  bikeid    usertype  birth year  gender  \n",
       "0             -73.991475   18660  Subscriber      1960.0       2  \n",
       "1             -73.999318   16085  Subscriber      1963.0       1  \n",
       "2             -73.988484   20845  Subscriber      1974.0       1  \n",
       "3             -73.964763   19610  Subscriber      1969.0       1  \n",
       "4             -73.983799   20197  Subscriber      1977.0       1  "
      ]
     },
     "execution_count": 3,
     "metadata": {},
     "output_type": "execute_result"
    }
   ],
   "source": [
    "df = pd.read_csv(os.getenv(\"PUIDATA\") + \"/\" + datestring + '-citibike-tripdata.csv')\n",
    "df.head()"
   ]
  },
  {
   "cell_type": "code",
   "execution_count": 4,
   "metadata": {
    "collapsed": false
   },
   "outputs": [
    {
     "data": {
      "text/html": [
       "<div>\n",
       "<table border=\"1\" class=\"dataframe\">\n",
       "  <thead>\n",
       "    <tr style=\"text-align: right;\">\n",
       "      <th></th>\n",
       "      <th>tripduration</th>\n",
       "      <th>starttime</th>\n",
       "      <th>stoptime</th>\n",
       "      <th>start station id</th>\n",
       "      <th>start station name</th>\n",
       "      <th>start station latitude</th>\n",
       "      <th>start station longitude</th>\n",
       "      <th>end station id</th>\n",
       "      <th>end station name</th>\n",
       "      <th>end station latitude</th>\n",
       "      <th>end station longitude</th>\n",
       "      <th>bikeid</th>\n",
       "      <th>usertype</th>\n",
       "      <th>birth year</th>\n",
       "      <th>gender</th>\n",
       "      <th>date</th>\n",
       "    </tr>\n",
       "  </thead>\n",
       "  <tbody>\n",
       "    <tr>\n",
       "      <th>0</th>\n",
       "      <td>1346</td>\n",
       "      <td>1/1/2015 0:01</td>\n",
       "      <td>1/1/2015 0:24</td>\n",
       "      <td>455</td>\n",
       "      <td>1 Ave &amp; E 44 St</td>\n",
       "      <td>40.750020</td>\n",
       "      <td>-73.969053</td>\n",
       "      <td>265</td>\n",
       "      <td>Stanton St &amp; Chrystie St</td>\n",
       "      <td>40.722293</td>\n",
       "      <td>-73.991475</td>\n",
       "      <td>18660</td>\n",
       "      <td>Subscriber</td>\n",
       "      <td>1960.0</td>\n",
       "      <td>2</td>\n",
       "      <td>2015-01-01 00:01:00</td>\n",
       "    </tr>\n",
       "    <tr>\n",
       "      <th>1</th>\n",
       "      <td>363</td>\n",
       "      <td>1/1/2015 0:02</td>\n",
       "      <td>1/1/2015 0:08</td>\n",
       "      <td>434</td>\n",
       "      <td>9 Ave &amp; W 18 St</td>\n",
       "      <td>40.743174</td>\n",
       "      <td>-74.003664</td>\n",
       "      <td>482</td>\n",
       "      <td>W 15 St &amp; 7 Ave</td>\n",
       "      <td>40.739355</td>\n",
       "      <td>-73.999318</td>\n",
       "      <td>16085</td>\n",
       "      <td>Subscriber</td>\n",
       "      <td>1963.0</td>\n",
       "      <td>1</td>\n",
       "      <td>2015-01-01 00:02:00</td>\n",
       "    </tr>\n",
       "    <tr>\n",
       "      <th>2</th>\n",
       "      <td>346</td>\n",
       "      <td>1/1/2015 0:04</td>\n",
       "      <td>1/1/2015 0:10</td>\n",
       "      <td>491</td>\n",
       "      <td>E 24 St &amp; Park Ave S</td>\n",
       "      <td>40.740964</td>\n",
       "      <td>-73.986022</td>\n",
       "      <td>505</td>\n",
       "      <td>6 Ave &amp; W 33 St</td>\n",
       "      <td>40.749013</td>\n",
       "      <td>-73.988484</td>\n",
       "      <td>20845</td>\n",
       "      <td>Subscriber</td>\n",
       "      <td>1974.0</td>\n",
       "      <td>1</td>\n",
       "      <td>2015-01-01 00:04:00</td>\n",
       "    </tr>\n",
       "    <tr>\n",
       "      <th>3</th>\n",
       "      <td>182</td>\n",
       "      <td>1/1/2015 0:04</td>\n",
       "      <td>1/1/2015 0:07</td>\n",
       "      <td>384</td>\n",
       "      <td>Fulton St &amp; Waverly Ave</td>\n",
       "      <td>40.683178</td>\n",
       "      <td>-73.965964</td>\n",
       "      <td>399</td>\n",
       "      <td>Lafayette Ave &amp; St James Pl</td>\n",
       "      <td>40.688515</td>\n",
       "      <td>-73.964763</td>\n",
       "      <td>19610</td>\n",
       "      <td>Subscriber</td>\n",
       "      <td>1969.0</td>\n",
       "      <td>1</td>\n",
       "      <td>2015-01-01 00:04:00</td>\n",
       "    </tr>\n",
       "    <tr>\n",
       "      <th>4</th>\n",
       "      <td>969</td>\n",
       "      <td>1/1/2015 0:05</td>\n",
       "      <td>1/1/2015 0:21</td>\n",
       "      <td>474</td>\n",
       "      <td>5 Ave &amp; E 29 St</td>\n",
       "      <td>40.745168</td>\n",
       "      <td>-73.986831</td>\n",
       "      <td>432</td>\n",
       "      <td>E 7 St &amp; Avenue A</td>\n",
       "      <td>40.726218</td>\n",
       "      <td>-73.983799</td>\n",
       "      <td>20197</td>\n",
       "      <td>Subscriber</td>\n",
       "      <td>1977.0</td>\n",
       "      <td>1</td>\n",
       "      <td>2015-01-01 00:05:00</td>\n",
       "    </tr>\n",
       "  </tbody>\n",
       "</table>\n",
       "</div>"
      ],
      "text/plain": [
       "   tripduration      starttime       stoptime  start station id  \\\n",
       "0          1346  1/1/2015 0:01  1/1/2015 0:24               455   \n",
       "1           363  1/1/2015 0:02  1/1/2015 0:08               434   \n",
       "2           346  1/1/2015 0:04  1/1/2015 0:10               491   \n",
       "3           182  1/1/2015 0:04  1/1/2015 0:07               384   \n",
       "4           969  1/1/2015 0:05  1/1/2015 0:21               474   \n",
       "\n",
       "        start station name  start station latitude  start station longitude  \\\n",
       "0          1 Ave & E 44 St               40.750020               -73.969053   \n",
       "1          9 Ave & W 18 St               40.743174               -74.003664   \n",
       "2     E 24 St & Park Ave S               40.740964               -73.986022   \n",
       "3  Fulton St & Waverly Ave               40.683178               -73.965964   \n",
       "4          5 Ave & E 29 St               40.745168               -73.986831   \n",
       "\n",
       "   end station id             end station name  end station latitude  \\\n",
       "0             265     Stanton St & Chrystie St             40.722293   \n",
       "1             482              W 15 St & 7 Ave             40.739355   \n",
       "2             505              6 Ave & W 33 St             40.749013   \n",
       "3             399  Lafayette Ave & St James Pl             40.688515   \n",
       "4             432            E 7 St & Avenue A             40.726218   \n",
       "\n",
       "   end station longitude  bikeid    usertype  birth year  gender  \\\n",
       "0             -73.991475   18660  Subscriber      1960.0       2   \n",
       "1             -73.999318   16085  Subscriber      1963.0       1   \n",
       "2             -73.988484   20845  Subscriber      1974.0       1   \n",
       "3             -73.964763   19610  Subscriber      1969.0       1   \n",
       "4             -73.983799   20197  Subscriber      1977.0       1   \n",
       "\n",
       "                 date  \n",
       "0 2015-01-01 00:01:00  \n",
       "1 2015-01-01 00:02:00  \n",
       "2 2015-01-01 00:04:00  \n",
       "3 2015-01-01 00:04:00  \n",
       "4 2015-01-01 00:05:00  "
      ]
     },
     "execution_count": 4,
     "metadata": {},
     "output_type": "execute_result"
    }
   ],
   "source": [
    "# df is the dataframe where the content of the csv file is stored\n",
    "df['date'] = pd.to_datetime(df['starttime'])\n",
    "# note that with dataframes I can refer to variables as dictionary keys, \n",
    "# i.e. df['starttime'] or as attributes: df.starttime. \n",
    "df.head()"
   ]
  },
  {
   "cell_type": "code",
   "execution_count": 5,
   "metadata": {
    "collapsed": false
   },
   "outputs": [
    {
     "data": {
      "text/plain": [
       "Index(['tripduration', 'starttime', 'stoptime', 'start station id',\n",
       "       'start station name', 'start station latitude',\n",
       "       'start station longitude', 'end station id', 'end station name',\n",
       "       'end station latitude', 'end station longitude', 'bikeid', 'usertype',\n",
       "       'birth year', 'gender', 'date'],\n",
       "      dtype='object')"
      ]
     },
     "execution_count": 5,
     "metadata": {},
     "output_type": "execute_result"
    }
   ],
   "source": [
    "df.columns"
   ]
  },
  {
   "cell_type": "markdown",
   "metadata": {},
   "source": [
    "# BY GENDER\n",
    "splitting data by gender and extracting the age happens in the cell below"
   ]
  },
  {
   "cell_type": "code",
   "execution_count": 9,
   "metadata": {
    "collapsed": true
   },
   "outputs": [],
   "source": [
    "#df is the dataframe where the content of the csv file is stored\n",
    "df['ageM'] = 2015 - df['birth year'][(df['usertype'] == 'Subscriber') & (df['gender'] == 1)]\n",
    "df['ageF'] = 2015 - df['birth year'][(df['usertype'] == 'Subscriber') & (df['gender'] == 2)]"
   ]
  },
  {
   "cell_type": "code",
   "execution_count": 11,
   "metadata": {
    "collapsed": false
   },
   "outputs": [],
   "source": [
    "#dropping some data I no longer need\n",
    "#... your code here...\n",
    "df.drop(['starttime','stoptime','date','usertype'], axis=1, inplace=1)"
   ]
  },
  {
   "cell_type": "code",
   "execution_count": 12,
   "metadata": {
    "collapsed": false
   },
   "outputs": [
    {
     "data": {
      "text/html": [
       "<div>\n",
       "<table border=\"1\" class=\"dataframe\">\n",
       "  <thead>\n",
       "    <tr style=\"text-align: right;\">\n",
       "      <th></th>\n",
       "      <th>tripduration</th>\n",
       "      <th>start station id</th>\n",
       "      <th>start station name</th>\n",
       "      <th>start station latitude</th>\n",
       "      <th>start station longitude</th>\n",
       "      <th>end station id</th>\n",
       "      <th>end station name</th>\n",
       "      <th>end station latitude</th>\n",
       "      <th>end station longitude</th>\n",
       "      <th>bikeid</th>\n",
       "      <th>birth year</th>\n",
       "      <th>gender</th>\n",
       "      <th>ageM</th>\n",
       "      <th>ageF</th>\n",
       "    </tr>\n",
       "  </thead>\n",
       "  <tbody>\n",
       "    <tr>\n",
       "      <th>0</th>\n",
       "      <td>1346</td>\n",
       "      <td>455</td>\n",
       "      <td>1 Ave &amp; E 44 St</td>\n",
       "      <td>40.750020</td>\n",
       "      <td>-73.969053</td>\n",
       "      <td>265</td>\n",
       "      <td>Stanton St &amp; Chrystie St</td>\n",
       "      <td>40.722293</td>\n",
       "      <td>-73.991475</td>\n",
       "      <td>18660</td>\n",
       "      <td>1960.0</td>\n",
       "      <td>2</td>\n",
       "      <td>NaN</td>\n",
       "      <td>55.0</td>\n",
       "    </tr>\n",
       "    <tr>\n",
       "      <th>1</th>\n",
       "      <td>363</td>\n",
       "      <td>434</td>\n",
       "      <td>9 Ave &amp; W 18 St</td>\n",
       "      <td>40.743174</td>\n",
       "      <td>-74.003664</td>\n",
       "      <td>482</td>\n",
       "      <td>W 15 St &amp; 7 Ave</td>\n",
       "      <td>40.739355</td>\n",
       "      <td>-73.999318</td>\n",
       "      <td>16085</td>\n",
       "      <td>1963.0</td>\n",
       "      <td>1</td>\n",
       "      <td>52.0</td>\n",
       "      <td>NaN</td>\n",
       "    </tr>\n",
       "    <tr>\n",
       "      <th>2</th>\n",
       "      <td>346</td>\n",
       "      <td>491</td>\n",
       "      <td>E 24 St &amp; Park Ave S</td>\n",
       "      <td>40.740964</td>\n",
       "      <td>-73.986022</td>\n",
       "      <td>505</td>\n",
       "      <td>6 Ave &amp; W 33 St</td>\n",
       "      <td>40.749013</td>\n",
       "      <td>-73.988484</td>\n",
       "      <td>20845</td>\n",
       "      <td>1974.0</td>\n",
       "      <td>1</td>\n",
       "      <td>41.0</td>\n",
       "      <td>NaN</td>\n",
       "    </tr>\n",
       "    <tr>\n",
       "      <th>3</th>\n",
       "      <td>182</td>\n",
       "      <td>384</td>\n",
       "      <td>Fulton St &amp; Waverly Ave</td>\n",
       "      <td>40.683178</td>\n",
       "      <td>-73.965964</td>\n",
       "      <td>399</td>\n",
       "      <td>Lafayette Ave &amp; St James Pl</td>\n",
       "      <td>40.688515</td>\n",
       "      <td>-73.964763</td>\n",
       "      <td>19610</td>\n",
       "      <td>1969.0</td>\n",
       "      <td>1</td>\n",
       "      <td>46.0</td>\n",
       "      <td>NaN</td>\n",
       "    </tr>\n",
       "    <tr>\n",
       "      <th>4</th>\n",
       "      <td>969</td>\n",
       "      <td>474</td>\n",
       "      <td>5 Ave &amp; E 29 St</td>\n",
       "      <td>40.745168</td>\n",
       "      <td>-73.986831</td>\n",
       "      <td>432</td>\n",
       "      <td>E 7 St &amp; Avenue A</td>\n",
       "      <td>40.726218</td>\n",
       "      <td>-73.983799</td>\n",
       "      <td>20197</td>\n",
       "      <td>1977.0</td>\n",
       "      <td>1</td>\n",
       "      <td>38.0</td>\n",
       "      <td>NaN</td>\n",
       "    </tr>\n",
       "  </tbody>\n",
       "</table>\n",
       "</div>"
      ],
      "text/plain": [
       "   tripduration  start station id       start station name  \\\n",
       "0          1346               455          1 Ave & E 44 St   \n",
       "1           363               434          9 Ave & W 18 St   \n",
       "2           346               491     E 24 St & Park Ave S   \n",
       "3           182               384  Fulton St & Waverly Ave   \n",
       "4           969               474          5 Ave & E 29 St   \n",
       "\n",
       "   start station latitude  start station longitude  end station id  \\\n",
       "0               40.750020               -73.969053             265   \n",
       "1               40.743174               -74.003664             482   \n",
       "2               40.740964               -73.986022             505   \n",
       "3               40.683178               -73.965964             399   \n",
       "4               40.745168               -73.986831             432   \n",
       "\n",
       "              end station name  end station latitude  end station longitude  \\\n",
       "0     Stanton St & Chrystie St             40.722293             -73.991475   \n",
       "1              W 15 St & 7 Ave             40.739355             -73.999318   \n",
       "2              6 Ave & W 33 St             40.749013             -73.988484   \n",
       "3  Lafayette Ave & St James Pl             40.688515             -73.964763   \n",
       "4            E 7 St & Avenue A             40.726218             -73.983799   \n",
       "\n",
       "   bikeid  birth year  gender  ageM  ageF  \n",
       "0   18660      1960.0       2   NaN  55.0  \n",
       "1   16085      1963.0       1  52.0   NaN  \n",
       "2   20845      1974.0       1  41.0   NaN  \n",
       "3   19610      1969.0       1  46.0   NaN  \n",
       "4   20197      1977.0       1  38.0   NaN  "
      ]
     },
     "execution_count": 12,
     "metadata": {},
     "output_type": "execute_result"
    }
   ],
   "source": [
    "df.head()"
   ]
  },
  {
   "cell_type": "code",
   "execution_count": 13,
   "metadata": {
    "collapsed": false
   },
   "outputs": [
    {
     "name": "stderr",
     "output_type": "stream",
     "text": [
      "/opt/rh/anaconda/root/envs/PUI2016_Python3/lib/python3.5/site-packages/numpy/lib/function_base.py:3403: RuntimeWarning: Invalid value encountered in median\n",
      "  RuntimeWarning)\n"
     ]
    },
    {
     "data": {
      "text/html": [
       "<div>\n",
       "<table border=\"1\" class=\"dataframe\">\n",
       "  <thead>\n",
       "    <tr style=\"text-align: right;\">\n",
       "      <th></th>\n",
       "      <th>tripduration</th>\n",
       "      <th>start station id</th>\n",
       "      <th>start station latitude</th>\n",
       "      <th>start station longitude</th>\n",
       "      <th>end station id</th>\n",
       "      <th>end station latitude</th>\n",
       "      <th>end station longitude</th>\n",
       "      <th>bikeid</th>\n",
       "      <th>birth year</th>\n",
       "      <th>gender</th>\n",
       "      <th>ageM</th>\n",
       "      <th>ageF</th>\n",
       "    </tr>\n",
       "  </thead>\n",
       "  <tbody>\n",
       "    <tr>\n",
       "      <th>count</th>\n",
       "      <td>285552.000000</td>\n",
       "      <td>285552.000000</td>\n",
       "      <td>285552.000000</td>\n",
       "      <td>285552.000000</td>\n",
       "      <td>285552.000000</td>\n",
       "      <td>285552.000000</td>\n",
       "      <td>285552.000000</td>\n",
       "      <td>285552.000000</td>\n",
       "      <td>279924.000000</td>\n",
       "      <td>285552.000000</td>\n",
       "      <td>227764.000000</td>\n",
       "      <td>52093.000000</td>\n",
       "    </tr>\n",
       "    <tr>\n",
       "      <th>mean</th>\n",
       "      <td>654.325583</td>\n",
       "      <td>443.535006</td>\n",
       "      <td>40.735804</td>\n",
       "      <td>-73.990177</td>\n",
       "      <td>440.337557</td>\n",
       "      <td>40.735607</td>\n",
       "      <td>-73.990398</td>\n",
       "      <td>18147.291481</td>\n",
       "      <td>1974.951419</td>\n",
       "      <td>1.162485</td>\n",
       "      <td>40.305272</td>\n",
       "      <td>38.951145</td>\n",
       "    </tr>\n",
       "    <tr>\n",
       "      <th>std</th>\n",
       "      <td>900.775928</td>\n",
       "      <td>332.580265</td>\n",
       "      <td>0.018773</td>\n",
       "      <td>0.011681</td>\n",
       "      <td>326.010259</td>\n",
       "      <td>0.018718</td>\n",
       "      <td>0.011742</td>\n",
       "      <td>2065.313794</td>\n",
       "      <td>11.574637</td>\n",
       "      <td>0.419490</td>\n",
       "      <td>11.595240</td>\n",
       "      <td>11.405112</td>\n",
       "    </tr>\n",
       "    <tr>\n",
       "      <th>min</th>\n",
       "      <td>60.000000</td>\n",
       "      <td>72.000000</td>\n",
       "      <td>40.680342</td>\n",
       "      <td>-74.017134</td>\n",
       "      <td>72.000000</td>\n",
       "      <td>40.680342</td>\n",
       "      <td>-74.017134</td>\n",
       "      <td>14529.000000</td>\n",
       "      <td>1899.000000</td>\n",
       "      <td>0.000000</td>\n",
       "      <td>16.000000</td>\n",
       "      <td>17.000000</td>\n",
       "    </tr>\n",
       "    <tr>\n",
       "      <th>25%</th>\n",
       "      <td>334.000000</td>\n",
       "      <td>308.000000</td>\n",
       "      <td>40.723627</td>\n",
       "      <td>-73.998102</td>\n",
       "      <td>307.000000</td>\n",
       "      <td>40.723180</td>\n",
       "      <td>-73.998522</td>\n",
       "      <td>16355.000000</td>\n",
       "      <td>NaN</td>\n",
       "      <td>1.000000</td>\n",
       "      <td>NaN</td>\n",
       "      <td>NaN</td>\n",
       "    </tr>\n",
       "    <tr>\n",
       "      <th>50%</th>\n",
       "      <td>504.000000</td>\n",
       "      <td>417.000000</td>\n",
       "      <td>40.738274</td>\n",
       "      <td>-73.990093</td>\n",
       "      <td>417.000000</td>\n",
       "      <td>40.737815</td>\n",
       "      <td>-73.990617</td>\n",
       "      <td>18148.000000</td>\n",
       "      <td>NaN</td>\n",
       "      <td>1.000000</td>\n",
       "      <td>NaN</td>\n",
       "      <td>NaN</td>\n",
       "    </tr>\n",
       "    <tr>\n",
       "      <th>75%</th>\n",
       "      <td>772.000000</td>\n",
       "      <td>492.000000</td>\n",
       "      <td>40.750450</td>\n",
       "      <td>-73.981854</td>\n",
       "      <td>492.000000</td>\n",
       "      <td>40.750200</td>\n",
       "      <td>-73.981854</td>\n",
       "      <td>19903.000000</td>\n",
       "      <td>NaN</td>\n",
       "      <td>1.000000</td>\n",
       "      <td>NaN</td>\n",
       "      <td>NaN</td>\n",
       "    </tr>\n",
       "    <tr>\n",
       "      <th>max</th>\n",
       "      <td>43023.000000</td>\n",
       "      <td>3002.000000</td>\n",
       "      <td>40.771522</td>\n",
       "      <td>-73.950048</td>\n",
       "      <td>3002.000000</td>\n",
       "      <td>40.771522</td>\n",
       "      <td>-73.950048</td>\n",
       "      <td>21690.000000</td>\n",
       "      <td>1999.000000</td>\n",
       "      <td>2.000000</td>\n",
       "      <td>116.000000</td>\n",
       "      <td>89.000000</td>\n",
       "    </tr>\n",
       "  </tbody>\n",
       "</table>\n",
       "</div>"
      ],
      "text/plain": [
       "        tripduration  start station id  start station latitude  \\\n",
       "count  285552.000000     285552.000000           285552.000000   \n",
       "mean      654.325583        443.535006               40.735804   \n",
       "std       900.775928        332.580265                0.018773   \n",
       "min        60.000000         72.000000               40.680342   \n",
       "25%       334.000000        308.000000               40.723627   \n",
       "50%       504.000000        417.000000               40.738274   \n",
       "75%       772.000000        492.000000               40.750450   \n",
       "max     43023.000000       3002.000000               40.771522   \n",
       "\n",
       "       start station longitude  end station id  end station latitude  \\\n",
       "count            285552.000000   285552.000000         285552.000000   \n",
       "mean                -73.990177      440.337557             40.735607   \n",
       "std                   0.011681      326.010259              0.018718   \n",
       "min                 -74.017134       72.000000             40.680342   \n",
       "25%                 -73.998102      307.000000             40.723180   \n",
       "50%                 -73.990093      417.000000             40.737815   \n",
       "75%                 -73.981854      492.000000             40.750200   \n",
       "max                 -73.950048     3002.000000             40.771522   \n",
       "\n",
       "       end station longitude         bikeid     birth year         gender  \\\n",
       "count          285552.000000  285552.000000  279924.000000  285552.000000   \n",
       "mean              -73.990398   18147.291481    1974.951419       1.162485   \n",
       "std                 0.011742    2065.313794      11.574637       0.419490   \n",
       "min               -74.017134   14529.000000    1899.000000       0.000000   \n",
       "25%               -73.998522   16355.000000            NaN       1.000000   \n",
       "50%               -73.990617   18148.000000            NaN       1.000000   \n",
       "75%               -73.981854   19903.000000            NaN       1.000000   \n",
       "max               -73.950048   21690.000000    1999.000000       2.000000   \n",
       "\n",
       "                ageM          ageF  \n",
       "count  227764.000000  52093.000000  \n",
       "mean       40.305272     38.951145  \n",
       "std        11.595240     11.405112  \n",
       "min        16.000000     17.000000  \n",
       "25%              NaN           NaN  \n",
       "50%              NaN           NaN  \n",
       "75%              NaN           NaN  \n",
       "max       116.000000     89.000000  "
      ]
     },
     "execution_count": 13,
     "metadata": {},
     "output_type": "execute_result"
    }
   ],
   "source": [
    "#your df should look something like this\n",
    "# look at these data carefully... you may see someinteresting values!\n",
    "df.describe()"
   ]
  },
  {
   "cell_type": "code",
   "execution_count": 14,
   "metadata": {
    "collapsed": false
   },
   "outputs": [],
   "source": [
    "# dropping NaN values\n",
    "df['ageM'].dropna(inplace= True)\n",
    "df['ageF'].dropna(inplace= True)\n",
    "df = df.dropna(subset=['birth year'])# drop nan value"
   ]
  },
  {
   "cell_type": "markdown",
   "metadata": {},
   "source": [
    "lets split age in 10 year bins. the dataset is very large, so i could be split in smaller bins, but I will chose 10 years in the interest of time. \n",
    "the bin size choice should be a balance between properly sample the age space, have enough counts in each bin that the statistical noise is not significant (remember that is > sqrt(N)!) and the computational requirement to computatinal facilities ratio. "
   ]
  },
  {
   "cell_type": "markdown",
   "metadata": {},
   "source": [
    "the next several steps are needed if you want to code up the KS test from scratch. that is for extra credit, so if you do not want to do it you may not need to plot split the distribution in bins and create the cumulative HOWEVER it is a great idea to do it anyways to explore your data viaually! remember Ascombe's quartet!!"
   ]
  },
  {
   "cell_type": "code",
   "execution_count": 15,
   "metadata": {
    "collapsed": false
   },
   "outputs": [
    {
     "data": {
      "text/plain": [
       "<matplotlib.text.Text at 0x7fc512afdc88>"
      ]
     },
     "execution_count": 15,
     "metadata": {},
     "output_type": "execute_result"
    },
    {
     "data": {
      "image/png": "[encoded data removed]",
      "text/plain": [
       "<matplotlib.figure.Figure at 0x7fc5126c34a8>"
      ]
     },
     "metadata": {},
     "output_type": "display_data"
    },
    {
     "data": {
      "image/png": "[encoded data removed]",
      "text/plain": [
       "<matplotlib.figure.Figure at 0x7fc5126c3630>"
      ]
     },
     "metadata": {},
     "output_type": "display_data"
    }
   ],
   "source": [
    "# plotting histogramswith pandas is a bitdifferent than with pylab\n",
    "# this is a VERY USEFUL syntaxfor you to knonw!\n",
    "bins = np.arange(10, 99, 5)\n",
    "axM = df.ageM.groupby(pd.cut(df.ageM, bins)).agg([count_nonzero]).plot(kind='bar', \n",
    "                                                                legend=False)\n",
    "axM.set_title(\"male riders\")\n",
    "axF = df.ageF.groupby(pd.cut(df.ageF, bins)).agg([count_nonzero]).plot(kind='bar',\n",
    "                                                                legend=False)\n",
    "axF.set_title(\"female riders\")\n"
   ]
  },
  {
   "cell_type": "markdown",
   "metadata": {},
   "source": [
    "# Figure 1: histogrammed distribution of riders' ages by gender"
   ]
  },
  {
   "cell_type": "markdown",
   "metadata": {},
   "source": [
    "this is how the cumulative distributions look like.  Notice that i am normalizing them! if i want to reat an observed distribution like a probablility distribution i have to normalize it"
   ]
  },
  {
   "cell_type": "code",
   "execution_count": 16,
   "metadata": {
    "collapsed": false,
    "scrolled": false
   },
   "outputs": [
    {
     "name": "stdout",
     "output_type": "stream",
     "text": [
      "          count_nonzero\n",
      "ageM                   \n",
      "(10, 15]       0.000000\n",
      "(15, 20]       0.001657\n",
      "(20, 25]       0.010955\n",
      "(25, 30]       0.060955\n",
      "(30, 35]       0.065548\n",
      "(35, 40]       0.052146\n",
      "(40, 45]       0.031750\n",
      "(45, 50]       0.018657\n",
      "(50, 55]       0.011015\n",
      "(55, 60]       0.010957\n",
      "(60, 65]       0.008149\n",
      "(65, 70]       0.003203\n",
      "(70, 75]       0.000663\n",
      "(75, 80]       0.000188\n",
      "(80, 85]       0.000002\n",
      "(85, 90]       0.000075\n",
      "(90, 95]       0.000000\n"
     ]
    },
    {
     "data": {
      "text/plain": [
       "<matplotlib.legend.Legend at 0x7fc5127f86a0>"
      ]
     },
     "execution_count": 16,
     "metadata": {},
     "output_type": "execute_result"
    },
    {
     "data": {
      "image/png": "[encoded data removed]",
      "text/plain": [
       "<matplotlib.figure.Figure at 0x7fc512b75cc0>"
      ]
     },
     "metadata": {},
     "output_type": "display_data"
    }
   ],
   "source": [
    "#print df.ageS, df.ageS.cumsum()\n",
    "\n",
    "csM=df.ageM.groupby(pd.cut(df.ageM, bins)).agg([count_nonzero]).cumsum()\n",
    "\n",
    "csF=df.ageF.groupby(pd.cut(df.ageF, bins)).agg([count_nonzero]).cumsum()\n",
    "\n",
    "print (np.abs(csM / csM.max()-csF / csF.max()))\n",
    "\n",
    "pl.plot(bins[:-1] + 5, csM / csM.max(), label = \"M\")\n",
    "pl.plot(bins[:-1] + 5, csF / csF.max(), label = \"F\")\n",
    "pl.plot(bins[:-1] + 5, np.sqrt(csF / csF.max() - csM / csM.max())**2, 'k-',\n",
    "        label = \"difference\")\n",
    "pl.xlabel(\"Age\")\n",
    "pl.ylabel(\"Normalized Cumulative Number\")\n",
    "pl.legend()"
   ]
  },
  {
   "cell_type": "markdown",
   "metadata": {},
   "source": [
    "# Figure 2: the cumulative distribution of CitiBike riders' ages by gender"
   ]
  },
  {
   "cell_type": "markdown",
   "metadata": {},
   "source": [
    "They look similar! But the difference gets to 10%. If I wanted to code the KS test by hand I woud have everything I need: the normalized cumulative distributions can be subtracted from each other and the max distance can calculated. \n",
    "\n",
    "Notice that there may be NaN values you are gonna have to deal with! \n",
    "You can do that for example with a Boolean statementsuch as  df.ageF[~np.isnan(df.ageF)] or you can use numpy functions that deal with Nan values: nansum, nanmean, nanstd..."
   ]
  },
  {
   "cell_type": "markdown",
   "metadata": {},
   "source": [
    "lets run the scipy KS test"
   ]
  },
  {
   "cell_type": "code",
   "execution_count": 17,
   "metadata": {
    "collapsed": false,
    "scrolled": false
   },
   "outputs": [],
   "source": [
    "import scipy.stats"
   ]
  },
  {
   "cell_type": "markdown",
   "metadata": {
    "collapsed": true
   },
   "source": [
    "# KS tests to compare 2 samples\n",
    "\n",
    "http://docs.scipy.org/doc/scipy-0.15.1/reference/generated/scipy.stats.ks_2samp.html\n"
   ]
  },
  {
   "cell_type": "code",
   "execution_count": 18,
   "metadata": {
    "collapsed": false
   },
   "outputs": [
    {
     "name": "stdout",
     "output_type": "stream",
     "text": [
      "Ks_2sampResult(statistic=0.62756676812277612, pvalue=0.0)\n"
     ]
    }
   ],
   "source": [
    "ks = scipy.stats.ks_2samp(df.ageM, df.ageF)\n",
    "print (ks)"
   ]
  },
  {
   "cell_type": "markdown",
   "metadata": {},
   "source": [
    "# FILL IN THE CELL BELOW!"
   ]
  },
  {
   "cell_type": "markdown",
   "metadata": {
    "collapsed": true
   },
   "source": [
    "# For KS test, the Null hypothesis is that age distribution is the same for man and woman. \n",
    "# Since the p-value is extremely low, the Null hypothesis can be rejected, therefore the age distribution is different between man and woman.\n",
    "\n",
    "\n"
   ]
  },
  {
   "cell_type": "markdown",
   "metadata": {},
   "source": [
    "The scipy.stats KS test already tells me the significance and the p-value. \n",
    "\n",
    "The next few cells are here just to show you how you would obtain the same result by hand, but they are **not required**. \n",
    "\n",
    "Remember: the Null hypothesis is rejected if \n",
    "\n",
    "$D_KS(n1,n2) > c(\\alpha) \\sqrt{\\frac{(n1 + n2)}{n1n2}}$\n",
    "\n",
    "(see class notes) where $c(\\alpha$) is the inverse of the KS distribution, and you do not have to know how to get that cause there are tables that list critical values!! \n",
    "\n",
    "http://www.real-statistics.com/tests-normality-and-symmetry/statistical-tests-normality-symmetry/kolmogorov-smirnov-test/kolmogorov-distribution/\n",
    "\n",
    "But also this result depends in your choice of binning through, and thustheresultyou get by hand may not be exactly the same as the one the KS returns. Either way: this is how you would calculate the KS statistics by hand."
   ]
  },
  {
   "cell_type": "markdown",
   "metadata": {},
   "source": [
    "# Now redo the test with a subsample of the data: take only 1 ride every of 200 "
   ]
  },
  {
   "cell_type": "code",
   "execution_count": 27,
   "metadata": {
    "collapsed": false
   },
   "outputs": [
    {
     "data": {
      "text/html": [
       "<div>\n",
       "<table border=\"1\" class=\"dataframe\">\n",
       "  <thead>\n",
       "    <tr style=\"text-align: right;\">\n",
       "      <th></th>\n",
       "      <th>tripduration</th>\n",
       "      <th>start station id</th>\n",
       "      <th>start station name</th>\n",
       "      <th>start station latitude</th>\n",
       "      <th>start station longitude</th>\n",
       "      <th>end station id</th>\n",
       "      <th>end station name</th>\n",
       "      <th>end station latitude</th>\n",
       "      <th>end station longitude</th>\n",
       "      <th>bikeid</th>\n",
       "      <th>birth year</th>\n",
       "      <th>gender</th>\n",
       "      <th>ageM</th>\n",
       "      <th>ageF</th>\n",
       "    </tr>\n",
       "  </thead>\n",
       "  <tbody>\n",
       "    <tr>\n",
       "      <th>0</th>\n",
       "      <td>1346</td>\n",
       "      <td>455</td>\n",
       "      <td>1 Ave &amp; E 44 St</td>\n",
       "      <td>40.750020</td>\n",
       "      <td>-73.969053</td>\n",
       "      <td>265</td>\n",
       "      <td>Stanton St &amp; Chrystie St</td>\n",
       "      <td>40.722293</td>\n",
       "      <td>-73.991475</td>\n",
       "      <td>18660</td>\n",
       "      <td>1960.0</td>\n",
       "      <td>2</td>\n",
       "      <td>NaN</td>\n",
       "      <td>55.0</td>\n",
       "    </tr>\n",
       "    <tr>\n",
       "      <th>222</th>\n",
       "      <td>588</td>\n",
       "      <td>416</td>\n",
       "      <td>Cumberland St &amp; Lafayette Ave</td>\n",
       "      <td>40.687534</td>\n",
       "      <td>-73.972652</td>\n",
       "      <td>344</td>\n",
       "      <td>Monroe St &amp; Bedford Ave</td>\n",
       "      <td>40.685144</td>\n",
       "      <td>-73.953809</td>\n",
       "      <td>16930</td>\n",
       "      <td>1974.0</td>\n",
       "      <td>2</td>\n",
       "      <td>NaN</td>\n",
       "      <td>41.0</td>\n",
       "    </tr>\n",
       "    <tr>\n",
       "      <th>435</th>\n",
       "      <td>724</td>\n",
       "      <td>404</td>\n",
       "      <td>9 Ave &amp; W 14 St</td>\n",
       "      <td>40.740583</td>\n",
       "      <td>-74.005509</td>\n",
       "      <td>478</td>\n",
       "      <td>11 Ave &amp; W 41 St</td>\n",
       "      <td>40.760301</td>\n",
       "      <td>-73.998842</td>\n",
       "      <td>18524</td>\n",
       "      <td>1988.0</td>\n",
       "      <td>1</td>\n",
       "      <td>27.0</td>\n",
       "      <td>NaN</td>\n",
       "    </tr>\n",
       "    <tr>\n",
       "      <th>649</th>\n",
       "      <td>274</td>\n",
       "      <td>479</td>\n",
       "      <td>9 Ave &amp; W 45 St</td>\n",
       "      <td>40.760193</td>\n",
       "      <td>-73.991255</td>\n",
       "      <td>513</td>\n",
       "      <td>W 56 St &amp; 10 Ave</td>\n",
       "      <td>40.768254</td>\n",
       "      <td>-73.988639</td>\n",
       "      <td>18672</td>\n",
       "      <td>1967.0</td>\n",
       "      <td>1</td>\n",
       "      <td>48.0</td>\n",
       "      <td>NaN</td>\n",
       "    </tr>\n",
       "    <tr>\n",
       "      <th>859</th>\n",
       "      <td>291</td>\n",
       "      <td>401</td>\n",
       "      <td>Allen St &amp; Rivington St</td>\n",
       "      <td>40.720196</td>\n",
       "      <td>-73.989978</td>\n",
       "      <td>237</td>\n",
       "      <td>E 11 St &amp; 2 Ave</td>\n",
       "      <td>40.730473</td>\n",
       "      <td>-73.986724</td>\n",
       "      <td>21609</td>\n",
       "      <td>1991.0</td>\n",
       "      <td>1</td>\n",
       "      <td>24.0</td>\n",
       "      <td>NaN</td>\n",
       "    </tr>\n",
       "  </tbody>\n",
       "</table>\n",
       "</div>"
      ],
      "text/plain": [
       "     tripduration  start station id             start station name  \\\n",
       "0            1346               455                1 Ave & E 44 St   \n",
       "222           588               416  Cumberland St & Lafayette Ave   \n",
       "435           724               404                9 Ave & W 14 St   \n",
       "649           274               479                9 Ave & W 45 St   \n",
       "859           291               401        Allen St & Rivington St   \n",
       "\n",
       "     start station latitude  start station longitude  end station id  \\\n",
       "0                 40.750020               -73.969053             265   \n",
       "222               40.687534               -73.972652             344   \n",
       "435               40.740583               -74.005509             478   \n",
       "649               40.760193               -73.991255             513   \n",
       "859               40.720196               -73.989978             237   \n",
       "\n",
       "             end station name  end station latitude  end station longitude  \\\n",
       "0    Stanton St & Chrystie St             40.722293             -73.991475   \n",
       "222   Monroe St & Bedford Ave             40.685144             -73.953809   \n",
       "435          11 Ave & W 41 St             40.760301             -73.998842   \n",
       "649          W 56 St & 10 Ave             40.768254             -73.988639   \n",
       "859           E 11 St & 2 Ave             40.730473             -73.986724   \n",
       "\n",
       "     bikeid  birth year  gender  ageM  ageF  \n",
       "0     18660      1960.0       2   NaN  55.0  \n",
       "222   16930      1974.0       2   NaN  41.0  \n",
       "435   18524      1988.0       1  27.0   NaN  \n",
       "649   18672      1967.0       1  48.0   NaN  \n",
       "859   21609      1991.0       1  24.0   NaN  "
      ]
     },
     "execution_count": 27,
     "metadata": {},
     "output_type": "execute_result"
    }
   ],
   "source": [
    "## your words here!...\n",
    "## this cell is for you to redo the test with reducted dataset \n",
    "## and tell me what the scipy KS test returned and what it means in terms of NULL HYPOTHESIS\n",
    "df_sub = df.iloc[::200,:]\n",
    "df_sub.head()"
   ]
  },
  {
   "cell_type": "code",
   "execution_count": 30,
   "metadata": {
    "collapsed": true
   },
   "outputs": [],
   "source": [
    "bins = np.arange(10, 99, 5)"
   ]
  },
  {
   "cell_type": "code",
   "execution_count": 31,
   "metadata": {
    "collapsed": false
   },
   "outputs": [
    {
     "data": {
      "text/plain": [
       "<matplotlib.axes._subplots.AxesSubplot at 0x7fc507a82d30>"
      ]
     },
     "execution_count": 31,
     "metadata": {},
     "output_type": "execute_result"
    },
    {
     "data": {
      "image/png": "[encoded data removed]",
      "text/plain": [
       "<matplotlib.figure.Figure at 0x7fc507ad0fd0>"
      ]
     },
     "metadata": {},
     "output_type": "display_data"
    },
    {
     "data": {
      "image/png": "[encoded data removed]",
      "text/plain": [
       "<matplotlib.figure.Figure at 0x7fc507ad0f98>"
      ]
     },
     "metadata": {},
     "output_type": "display_data"
    }
   ],
   "source": [
    "subM = df_sub['ageM'].groupby(pd.cut(df_sub['ageM'], bins)).agg([count_nonzero])\n",
    "subF = df_sub.ageF.groupby(pd.cut(df_sub['ageF'], bins)).agg([count_nonzero])\n",
    "subM.plot(kind = \"bar\", title=\"Male\", legend=False)\n",
    "subF.plot(kind = 'bar', title='Female', legend=False)"
   ]
  },
  {
   "cell_type": "markdown",
   "metadata": {},
   "source": [
    "Figure: Distribution of age by gender"
   ]
  },
  {
   "cell_type": "code",
   "execution_count": 39,
   "metadata": {
    "collapsed": true
   },
   "outputs": [],
   "source": [
    "subM_cs = df_sub.ageM.groupby(pd.cut(df_sub.ageM, bins)).agg([count_nonzero]).cumsum()\n",
    "subF_cs = df_sub.ageF.groupby(pd.cut(df_sub.ageF, bins)).agg([count_nonzero]).cumsum()"
   ]
  },
  {
   "cell_type": "code",
   "execution_count": 42,
   "metadata": {
    "collapsed": false
   },
   "outputs": [
    {
     "data": {
      "text/plain": [
       "<matplotlib.legend.Legend at 0x7fc507984e48>"
      ]
     },
     "execution_count": 42,
     "metadata": {},
     "output_type": "execute_result"
    },
    {
     "data": {
      "image/png": "[encoded data removed]",
      "text/plain": [
       "<matplotlib.figure.Figure at 0x7fc507a3df98>"
      ]
     },
     "metadata": {},
     "output_type": "display_data"
    }
   ],
   "source": [
    "subM_cs_normalized = subM_cs/subM_cs.max()\n",
    "subF_cs_normalized = subF_cs/subF_cs.max()\n",
    "diff_sub = np.abs(subF_cs_normalized - subM_cs_normalized)\n",
    "\n",
    "pl.plot(bins[:-1]+5, subM_cs_normalized, label=\"Male\")\n",
    "pl.plot(bins[:-1]+5, subF_cs_normalized, label=\"Female\")\n",
    "pl.plot(bins[:-1]+5, diff_sub, label=\"Difference\")\n",
    "pl.xlabel(\"Age\")\n",
    "pl.ylabel(\"Normalized Cumulative Number\")\n",
    "pl.title(\"Cumulative age distribution\")\n",
    "pl.legend()"
   ]
  },
  {
   "cell_type": "markdown",
   "metadata": {},
   "source": [
    "Figure: Cumulative distribution of CitiBike users' ages by gender"
   ]
  },
  {
   "cell_type": "code",
   "execution_count": 43,
   "metadata": {
    "collapsed": false
   },
   "outputs": [
    {
     "name": "stdout",
     "output_type": "stream",
     "text": [
      "Ks_2sampResult(statistic=0.097413793103448221, pvalue=0.042866319007648264)\n"
     ]
    }
   ],
   "source": [
    "ks_sub = scipy.stats.ks_2samp(df_sub.ageM[~np.isnan(df_sub.ageM)] , df_sub.ageF[~np.isnan(df_sub.ageF)])\n",
    "print (ks_sub)"
   ]
  },
  {
   "cell_type": "markdown",
   "metadata": {},
   "source": [
    "As is shown, p value is very low and smaller than 0.05, it is reasonable to reject the null hypothesis, which means that the ages distribution is different between man and woman."
   ]
  },
  {
   "cell_type": "markdown",
   "metadata": {},
   "source": [
    "# Pearson's  test for correlation\n",
    "\n",
    "## notice that the Pearson's is a pairwise test: the samples need to be \n",
    "## a. sorted and \n",
    "## b. the same size!\n",
    "\n",
    "http://docs.scipy.org/doc/scipy/reference/generated/scipy.stats.pearsonr.html#scipy.stats.pearsonr\n",
    "\n"
   ]
  },
  {
   "cell_type": "markdown",
   "metadata": {},
   "source": [
    "# Null hypothesis:\n",
    "\n",
    "## H0:There is no correlation between the age distribution of male and female \n",
    "\n",
    "# Alternative hypothesis:\n",
    "\n",
    "## Ha:There is a corrlation between the age distribution of male and female"
   ]
  },
  {
   "cell_type": "code",
   "execution_count": 49,
   "metadata": {
    "collapsed": false
   },
   "outputs": [
    {
     "data": {
      "text/html": [
       "<div>\n",
       "<table border=\"1\" class=\"dataframe\">\n",
       "  <thead>\n",
       "    <tr style=\"text-align: right;\">\n",
       "      <th></th>\n",
       "      <th>tripduration</th>\n",
       "      <th>start station id</th>\n",
       "      <th>start station name</th>\n",
       "      <th>start station latitude</th>\n",
       "      <th>start station longitude</th>\n",
       "      <th>end station id</th>\n",
       "      <th>end station name</th>\n",
       "      <th>end station latitude</th>\n",
       "      <th>end station longitude</th>\n",
       "      <th>bikeid</th>\n",
       "      <th>birth year</th>\n",
       "      <th>gender</th>\n",
       "      <th>ageM</th>\n",
       "      <th>ageF</th>\n",
       "    </tr>\n",
       "  </thead>\n",
       "  <tbody>\n",
       "    <tr>\n",
       "      <th>0</th>\n",
       "      <td>1346</td>\n",
       "      <td>455</td>\n",
       "      <td>1 Ave &amp; E 44 St</td>\n",
       "      <td>40.750020</td>\n",
       "      <td>-73.969053</td>\n",
       "      <td>265</td>\n",
       "      <td>Stanton St &amp; Chrystie St</td>\n",
       "      <td>40.722293</td>\n",
       "      <td>-73.991475</td>\n",
       "      <td>18660</td>\n",
       "      <td>1960.0</td>\n",
       "      <td>2</td>\n",
       "      <td>NaN</td>\n",
       "      <td>55.0</td>\n",
       "    </tr>\n",
       "    <tr>\n",
       "      <th>1</th>\n",
       "      <td>363</td>\n",
       "      <td>434</td>\n",
       "      <td>9 Ave &amp; W 18 St</td>\n",
       "      <td>40.743174</td>\n",
       "      <td>-74.003664</td>\n",
       "      <td>482</td>\n",
       "      <td>W 15 St &amp; 7 Ave</td>\n",
       "      <td>40.739355</td>\n",
       "      <td>-73.999318</td>\n",
       "      <td>16085</td>\n",
       "      <td>1963.0</td>\n",
       "      <td>1</td>\n",
       "      <td>52.0</td>\n",
       "      <td>NaN</td>\n",
       "    </tr>\n",
       "    <tr>\n",
       "      <th>2</th>\n",
       "      <td>346</td>\n",
       "      <td>491</td>\n",
       "      <td>E 24 St &amp; Park Ave S</td>\n",
       "      <td>40.740964</td>\n",
       "      <td>-73.986022</td>\n",
       "      <td>505</td>\n",
       "      <td>6 Ave &amp; W 33 St</td>\n",
       "      <td>40.749013</td>\n",
       "      <td>-73.988484</td>\n",
       "      <td>20845</td>\n",
       "      <td>1974.0</td>\n",
       "      <td>1</td>\n",
       "      <td>41.0</td>\n",
       "      <td>NaN</td>\n",
       "    </tr>\n",
       "    <tr>\n",
       "      <th>3</th>\n",
       "      <td>182</td>\n",
       "      <td>384</td>\n",
       "      <td>Fulton St &amp; Waverly Ave</td>\n",
       "      <td>40.683178</td>\n",
       "      <td>-73.965964</td>\n",
       "      <td>399</td>\n",
       "      <td>Lafayette Ave &amp; St James Pl</td>\n",
       "      <td>40.688515</td>\n",
       "      <td>-73.964763</td>\n",
       "      <td>19610</td>\n",
       "      <td>1969.0</td>\n",
       "      <td>1</td>\n",
       "      <td>46.0</td>\n",
       "      <td>NaN</td>\n",
       "    </tr>\n",
       "    <tr>\n",
       "      <th>4</th>\n",
       "      <td>969</td>\n",
       "      <td>474</td>\n",
       "      <td>5 Ave &amp; E 29 St</td>\n",
       "      <td>40.745168</td>\n",
       "      <td>-73.986831</td>\n",
       "      <td>432</td>\n",
       "      <td>E 7 St &amp; Avenue A</td>\n",
       "      <td>40.726218</td>\n",
       "      <td>-73.983799</td>\n",
       "      <td>20197</td>\n",
       "      <td>1977.0</td>\n",
       "      <td>1</td>\n",
       "      <td>38.0</td>\n",
       "      <td>NaN</td>\n",
       "    </tr>\n",
       "  </tbody>\n",
       "</table>\n",
       "</div>"
      ],
      "text/plain": [
       "   tripduration  start station id       start station name  \\\n",
       "0          1346               455          1 Ave & E 44 St   \n",
       "1           363               434          9 Ave & W 18 St   \n",
       "2           346               491     E 24 St & Park Ave S   \n",
       "3           182               384  Fulton St & Waverly Ave   \n",
       "4           969               474          5 Ave & E 29 St   \n",
       "\n",
       "   start station latitude  start station longitude  end station id  \\\n",
       "0               40.750020               -73.969053             265   \n",
       "1               40.743174               -74.003664             482   \n",
       "2               40.740964               -73.986022             505   \n",
       "3               40.683178               -73.965964             399   \n",
       "4               40.745168               -73.986831             432   \n",
       "\n",
       "              end station name  end station latitude  end station longitude  \\\n",
       "0     Stanton St & Chrystie St             40.722293             -73.991475   \n",
       "1              W 15 St & 7 Ave             40.739355             -73.999318   \n",
       "2              6 Ave & W 33 St             40.749013             -73.988484   \n",
       "3  Lafayette Ave & St James Pl             40.688515             -73.964763   \n",
       "4            E 7 St & Avenue A             40.726218             -73.983799   \n",
       "\n",
       "   bikeid  birth year  gender  ageM  ageF  \n",
       "0   18660      1960.0       2   NaN  55.0  \n",
       "1   16085      1963.0       1  52.0   NaN  \n",
       "2   20845      1974.0       1  41.0   NaN  \n",
       "3   19610      1969.0       1  46.0   NaN  \n",
       "4   20197      1977.0       1  38.0   NaN  "
      ]
     },
     "execution_count": 49,
     "metadata": {},
     "output_type": "execute_result"
    }
   ],
   "source": [
    "df.head()"
   ]
  },
  {
   "cell_type": "code",
   "execution_count": 50,
   "metadata": {
    "collapsed": true
   },
   "outputs": [],
   "source": [
    "M_age = np.array(df.ageM.dropna())\n",
    "F_age = np.array(df.ageF.dropna())\n",
    "\n",
    "index_M = np.random.permutation(40000)\n",
    "index_F = np.random.permutation(40000)\n",
    "\n",
    "M_age = sorted(M_age[index_M])\n",
    "F_age = sorted(F_age[index_F])"
   ]
  },
  {
   "cell_type": "code",
   "execution_count": 52,
   "metadata": {
    "collapsed": false
   },
   "outputs": [
    {
     "data": {
      "text/plain": [
       "(0.99645020589470001, 0.0)"
      ]
     },
     "execution_count": 52,
     "metadata": {},
     "output_type": "execute_result"
    }
   ],
   "source": [
    "scipy.stats.pearsonr(M_age,F_age)"
   ]
  },
  {
   "cell_type": "markdown",
   "metadata": {},
   "source": [
    "As p-value is smaller than 0.05, the null hypothesis can be rejected. There is a relationship between the age distribution of male and female, the correlation coefficient is 0.99645, which indicates a strong linear correlation."
   ]
  },
  {
   "cell_type": "markdown",
   "metadata": {},
   "source": [
    "# Spearman's  test for correlation\n",
    "\n",
    "http://docs.scipy.org/doc/scipy/reference/generated/scipy.stats.spearmanr.html#scipy.stats.spearmanr"
   ]
  },
  {
   "cell_type": "markdown",
   "metadata": {
    "collapsed": false
   },
   "source": [
    "# Null hypothesis:\n",
    "\n",
    "## H0:There is no correlation between the age distribution of male and female \n",
    "\n",
    "# Alternative hypothesis:\n",
    "\n",
    "## Ha:There is a corrlation between the age distribution of male and female\n"
   ]
  },
  {
   "cell_type": "code",
   "execution_count": 53,
   "metadata": {
    "collapsed": false
   },
   "outputs": [
    {
     "data": {
      "text/plain": [
       "SpearmanrResult(correlation=0.99908755912119063, pvalue=0.0)"
      ]
     },
     "execution_count": 53,
     "metadata": {},
     "output_type": "execute_result"
    }
   ],
   "source": [
    "scipy.stats.spearmanr(M_age, F_age)"
   ]
  },
  {
   "cell_type": "markdown",
   "metadata": {},
   "source": [
    "Again, as p-value is smaller than 0.05, the null hypothesis can be rejected. There is a relationship between the age distribution of male and female, the correlation coefficient is 0.9991, which indicates a strong linear correlation."
   ]
  },
  {
   "cell_type": "markdown",
   "metadata": {},
   "source": [
    "## EXTRA CREDIT:  CHOOSE ONE OF THE TESTS, AND TEST THE CORRELATION OF AGES  OF RIDERS DURING THE DAY VS DURING THE NIGHT!\n",
    "\n"
   ]
  },
  {
   "cell_type": "markdown",
   "metadata": {
    "collapsed": true
   },
   "source": [
    "# Null hypothesis:\n",
    "## H0:There is no correlation between the age distribution of day and night\n",
    "# Alternative hypothesis:\n",
    "## Ha:There is a correlation between the age distribution of day and night"
   ]
  },
  {
   "cell_type": "code",
   "execution_count": 2,
   "metadata": {
    "collapsed": false
   },
   "outputs": [
    {
     "ename": "NameError",
     "evalue": "name 'pd' is not defined",
     "output_type": "error",
     "traceback": [
      "\u001b[0;31m\u001b[0m",
      "\u001b[0;31mNameError\u001b[0mTraceback (most recent call last)",
      "\u001b[0;32m<ipython-input-2-606057210cf1>\u001b[0m in \u001b[0;36m<module>\u001b[0;34m()\u001b[0m\n\u001b[0;32m----> 1\u001b[0;31m \u001b[0mdf\u001b[0m \u001b[0;34m=\u001b[0m \u001b[0mpd\u001b[0m\u001b[0;34m.\u001b[0m\u001b[0mread_csv\u001b[0m\u001b[0;34m(\u001b[0m\u001b[0mos\u001b[0m\u001b[0;34m.\u001b[0m\u001b[0mgetenv\u001b[0m\u001b[0;34m(\u001b[0m\u001b[0;34m\"PUIDATA\"\u001b[0m\u001b[0;34m)\u001b[0m \u001b[0;34m+\u001b[0m \u001b[0;34m\"/\"\u001b[0m \u001b[0;34m+\u001b[0m \u001b[0mdatestring\u001b[0m \u001b[0;34m+\u001b[0m \u001b[0;34m'-citibike-tripdata.csv'\u001b[0m\u001b[0;34m)\u001b[0m\u001b[0;34m\u001b[0m\u001b[0m\n\u001b[0m\u001b[1;32m      2\u001b[0m \u001b[0mdf\u001b[0m\u001b[0;34m.\u001b[0m\u001b[0mhead\u001b[0m\u001b[0;34m(\u001b[0m\u001b[0;34m)\u001b[0m\u001b[0;34m\u001b[0m\u001b[0m\n",
      "\u001b[0;31mNameError\u001b[0m: name 'pd' is not defined"
     ]
    }
   ],
   "source": [
    "df = pd.read_csv(os.getenv(\"PUIDATA\") + \"/\" + datestring + '-citibike-tripdata.csv')\n",
    "df.head()"
   ]
  },
  {
   "cell_type": "code",
   "execution_count": 3,
   "metadata": {
    "collapsed": false
   },
   "outputs": [
    {
     "ename": "NameError",
     "evalue": "name 'df' is not defined",
     "output_type": "error",
     "traceback": [
      "\u001b[0;31m\u001b[0m",
      "\u001b[0;31mNameError\u001b[0mTraceback (most recent call last)",
      "\u001b[0;32m<ipython-input-3-b52df7a9b25f>\u001b[0m in \u001b[0;36m<module>\u001b[0;34m()\u001b[0m\n\u001b[0;32m----> 1\u001b[0;31m \u001b[0mdf\u001b[0m \u001b[0;34m=\u001b[0m \u001b[0mdf\u001b[0m\u001b[0;34m[\u001b[0m\u001b[0mdf\u001b[0m\u001b[0;34m.\u001b[0m\u001b[0musertype\u001b[0m\u001b[0;34m==\u001b[0m\u001b[0;34m\"Subscriber\"\u001b[0m\u001b[0;34m]\u001b[0m\u001b[0;34m\u001b[0m\u001b[0m\n\u001b[0m\u001b[1;32m      2\u001b[0m \u001b[0;34m\u001b[0m\u001b[0m\n\u001b[1;32m      3\u001b[0m \u001b[0mdf\u001b[0m\u001b[0;34m[\u001b[0m\u001b[0;34m'date'\u001b[0m\u001b[0;34m]\u001b[0m \u001b[0;34m=\u001b[0m \u001b[0mpd\u001b[0m\u001b[0;34m.\u001b[0m\u001b[0mto_datetime\u001b[0m\u001b[0;34m(\u001b[0m\u001b[0mdf\u001b[0m\u001b[0;34m[\u001b[0m\u001b[0;34m'starttime'\u001b[0m\u001b[0;34m]\u001b[0m\u001b[0;34m)\u001b[0m\u001b[0;34m\u001b[0m\u001b[0m\n\u001b[1;32m      4\u001b[0m \u001b[0;34m\u001b[0m\u001b[0m\n\u001b[1;32m      5\u001b[0m \u001b[0mdf\u001b[0m\u001b[0;34m.\u001b[0m\u001b[0mhead\u001b[0m\u001b[0;34m(\u001b[0m\u001b[0;34m)\u001b[0m\u001b[0;34m\u001b[0m\u001b[0m\n",
      "\u001b[0;31mNameError\u001b[0m: name 'df' is not defined"
     ]
    }
   ],
   "source": [
    "df = df[df.usertype==\"Subscriber\"]\n",
    "\n",
    "df['date'] = pd.to_datetime(df['starttime'])\n",
    "\n",
    "df.head()"
   ]
  },
  {
   "cell_type": "code",
   "execution_count": 56,
   "metadata": {
    "collapsed": false
   },
   "outputs": [
    {
     "data": {
      "text/html": [
       "<div>\n",
       "<table border=\"1\" class=\"dataframe\">\n",
       "  <thead>\n",
       "    <tr style=\"text-align: right;\">\n",
       "      <th></th>\n",
       "      <th>tripduration</th>\n",
       "      <th>starttime</th>\n",
       "      <th>stoptime</th>\n",
       "      <th>start station id</th>\n",
       "      <th>start station name</th>\n",
       "      <th>start station latitude</th>\n",
       "      <th>start station longitude</th>\n",
       "      <th>end station id</th>\n",
       "      <th>end station name</th>\n",
       "      <th>end station latitude</th>\n",
       "      <th>end station longitude</th>\n",
       "      <th>bikeid</th>\n",
       "      <th>usertype</th>\n",
       "      <th>birth year</th>\n",
       "      <th>gender</th>\n",
       "      <th>date</th>\n",
       "      <th>time</th>\n",
       "      <th>age</th>\n",
       "    </tr>\n",
       "  </thead>\n",
       "  <tbody>\n",
       "    <tr>\n",
       "      <th>0</th>\n",
       "      <td>1346</td>\n",
       "      <td>1/1/2015 0:01</td>\n",
       "      <td>1/1/2015 0:24</td>\n",
       "      <td>455</td>\n",
       "      <td>1 Ave &amp; E 44 St</td>\n",
       "      <td>40.750020</td>\n",
       "      <td>-73.969053</td>\n",
       "      <td>265</td>\n",
       "      <td>Stanton St &amp; Chrystie St</td>\n",
       "      <td>40.722293</td>\n",
       "      <td>-73.991475</td>\n",
       "      <td>18660</td>\n",
       "      <td>Subscriber</td>\n",
       "      <td>1960.0</td>\n",
       "      <td>2</td>\n",
       "      <td>2015-01-01 00:01:00</td>\n",
       "      <td>00:01:00</td>\n",
       "      <td>55.0</td>\n",
       "    </tr>\n",
       "    <tr>\n",
       "      <th>1</th>\n",
       "      <td>363</td>\n",
       "      <td>1/1/2015 0:02</td>\n",
       "      <td>1/1/2015 0:08</td>\n",
       "      <td>434</td>\n",
       "      <td>9 Ave &amp; W 18 St</td>\n",
       "      <td>40.743174</td>\n",
       "      <td>-74.003664</td>\n",
       "      <td>482</td>\n",
       "      <td>W 15 St &amp; 7 Ave</td>\n",
       "      <td>40.739355</td>\n",
       "      <td>-73.999318</td>\n",
       "      <td>16085</td>\n",
       "      <td>Subscriber</td>\n",
       "      <td>1963.0</td>\n",
       "      <td>1</td>\n",
       "      <td>2015-01-01 00:02:00</td>\n",
       "      <td>00:02:00</td>\n",
       "      <td>52.0</td>\n",
       "    </tr>\n",
       "    <tr>\n",
       "      <th>2</th>\n",
       "      <td>346</td>\n",
       "      <td>1/1/2015 0:04</td>\n",
       "      <td>1/1/2015 0:10</td>\n",
       "      <td>491</td>\n",
       "      <td>E 24 St &amp; Park Ave S</td>\n",
       "      <td>40.740964</td>\n",
       "      <td>-73.986022</td>\n",
       "      <td>505</td>\n",
       "      <td>6 Ave &amp; W 33 St</td>\n",
       "      <td>40.749013</td>\n",
       "      <td>-73.988484</td>\n",
       "      <td>20845</td>\n",
       "      <td>Subscriber</td>\n",
       "      <td>1974.0</td>\n",
       "      <td>1</td>\n",
       "      <td>2015-01-01 00:04:00</td>\n",
       "      <td>00:04:00</td>\n",
       "      <td>41.0</td>\n",
       "    </tr>\n",
       "    <tr>\n",
       "      <th>3</th>\n",
       "      <td>182</td>\n",
       "      <td>1/1/2015 0:04</td>\n",
       "      <td>1/1/2015 0:07</td>\n",
       "      <td>384</td>\n",
       "      <td>Fulton St &amp; Waverly Ave</td>\n",
       "      <td>40.683178</td>\n",
       "      <td>-73.965964</td>\n",
       "      <td>399</td>\n",
       "      <td>Lafayette Ave &amp; St James Pl</td>\n",
       "      <td>40.688515</td>\n",
       "      <td>-73.964763</td>\n",
       "      <td>19610</td>\n",
       "      <td>Subscriber</td>\n",
       "      <td>1969.0</td>\n",
       "      <td>1</td>\n",
       "      <td>2015-01-01 00:04:00</td>\n",
       "      <td>00:04:00</td>\n",
       "      <td>46.0</td>\n",
       "    </tr>\n",
       "    <tr>\n",
       "      <th>4</th>\n",
       "      <td>969</td>\n",
       "      <td>1/1/2015 0:05</td>\n",
       "      <td>1/1/2015 0:21</td>\n",
       "      <td>474</td>\n",
       "      <td>5 Ave &amp; E 29 St</td>\n",
       "      <td>40.745168</td>\n",
       "      <td>-73.986831</td>\n",
       "      <td>432</td>\n",
       "      <td>E 7 St &amp; Avenue A</td>\n",
       "      <td>40.726218</td>\n",
       "      <td>-73.983799</td>\n",
       "      <td>20197</td>\n",
       "      <td>Subscriber</td>\n",
       "      <td>1977.0</td>\n",
       "      <td>1</td>\n",
       "      <td>2015-01-01 00:05:00</td>\n",
       "      <td>00:05:00</td>\n",
       "      <td>38.0</td>\n",
       "    </tr>\n",
       "  </tbody>\n",
       "</table>\n",
       "</div>"
      ],
      "text/plain": [
       "   tripduration      starttime       stoptime  start station id  \\\n",
       "0          1346  1/1/2015 0:01  1/1/2015 0:24               455   \n",
       "1           363  1/1/2015 0:02  1/1/2015 0:08               434   \n",
       "2           346  1/1/2015 0:04  1/1/2015 0:10               491   \n",
       "3           182  1/1/2015 0:04  1/1/2015 0:07               384   \n",
       "4           969  1/1/2015 0:05  1/1/2015 0:21               474   \n",
       "\n",
       "        start station name  start station latitude  start station longitude  \\\n",
       "0          1 Ave & E 44 St               40.750020               -73.969053   \n",
       "1          9 Ave & W 18 St               40.743174               -74.003664   \n",
       "2     E 24 St & Park Ave S               40.740964               -73.986022   \n",
       "3  Fulton St & Waverly Ave               40.683178               -73.965964   \n",
       "4          5 Ave & E 29 St               40.745168               -73.986831   \n",
       "\n",
       "   end station id             end station name  end station latitude  \\\n",
       "0             265     Stanton St & Chrystie St             40.722293   \n",
       "1             482              W 15 St & 7 Ave             40.739355   \n",
       "2             505              6 Ave & W 33 St             40.749013   \n",
       "3             399  Lafayette Ave & St James Pl             40.688515   \n",
       "4             432            E 7 St & Avenue A             40.726218   \n",
       "\n",
       "   end station longitude  bikeid    usertype  birth year  gender  \\\n",
       "0             -73.991475   18660  Subscriber      1960.0       2   \n",
       "1             -73.999318   16085  Subscriber      1963.0       1   \n",
       "2             -73.988484   20845  Subscriber      1974.0       1   \n",
       "3             -73.964763   19610  Subscriber      1969.0       1   \n",
       "4             -73.983799   20197  Subscriber      1977.0       1   \n",
       "\n",
       "                 date      time   age  \n",
       "0 2015-01-01 00:01:00  00:01:00  55.0  \n",
       "1 2015-01-01 00:02:00  00:02:00  52.0  \n",
       "2 2015-01-01 00:04:00  00:04:00  41.0  \n",
       "3 2015-01-01 00:04:00  00:04:00  46.0  \n",
       "4 2015-01-01 00:05:00  00:05:00  38.0  "
      ]
     },
     "execution_count": 56,
     "metadata": {},
     "output_type": "execute_result"
    }
   ],
   "source": [
    "df[\"time\"] = df.date.apply(lambda x:x.time())\n",
    "df['age'] = 2015 - df['birth year']\n",
    "df = df.dropna(subset=['birth year'])\n",
    "df.head()"
   ]
  },
  {
   "cell_type": "code",
   "execution_count": 61,
   "metadata": {
    "collapsed": false
   },
   "outputs": [
    {
     "data": {
      "text/html": [
       "<div>\n",
       "<table border=\"1\" class=\"dataframe\">\n",
       "  <thead>\n",
       "    <tr style=\"text-align: right;\">\n",
       "      <th></th>\n",
       "      <th>time</th>\n",
       "      <th>age</th>\n",
       "    </tr>\n",
       "  </thead>\n",
       "  <tbody>\n",
       "    <tr>\n",
       "      <th>0</th>\n",
       "      <td>00:01:00</td>\n",
       "      <td>55.0</td>\n",
       "    </tr>\n",
       "    <tr>\n",
       "      <th>1</th>\n",
       "      <td>00:02:00</td>\n",
       "      <td>52.0</td>\n",
       "    </tr>\n",
       "    <tr>\n",
       "      <th>2</th>\n",
       "      <td>00:04:00</td>\n",
       "      <td>41.0</td>\n",
       "    </tr>\n",
       "    <tr>\n",
       "      <th>3</th>\n",
       "      <td>00:04:00</td>\n",
       "      <td>46.0</td>\n",
       "    </tr>\n",
       "    <tr>\n",
       "      <th>4</th>\n",
       "      <td>00:05:00</td>\n",
       "      <td>38.0</td>\n",
       "    </tr>\n",
       "  </tbody>\n",
       "</table>\n",
       "</div>"
      ],
      "text/plain": [
       "       time   age\n",
       "0  00:01:00  55.0\n",
       "1  00:02:00  52.0\n",
       "2  00:04:00  41.0\n",
       "3  00:04:00  46.0\n",
       "4  00:05:00  38.0"
      ]
     },
     "execution_count": 61,
     "metadata": {},
     "output_type": "execute_result"
    }
   ],
   "source": [
    "data = df[[\"time\",\"age\"]]\n",
    "data.head()"
   ]
  },
  {
   "cell_type": "code",
   "execution_count": 1,
   "metadata": {
    "collapsed": false
   },
   "outputs": [
    {
     "ename": "NameError",
     "evalue": "name 'data' is not defined",
     "output_type": "error",
     "traceback": [
      "\u001b[0;31m\u001b[0m",
      "\u001b[0;31mNameError\u001b[0mTraceback (most recent call last)",
      "\u001b[0;32m<ipython-input-1-b3bc2e74403f>\u001b[0m in \u001b[0;36m<module>\u001b[0;34m()\u001b[0m\n\u001b[0;32m----> 1\u001b[0;31m \u001b[0mdata\u001b[0m\u001b[0;34m[\u001b[0m\u001b[0;34m\"timezone\"\u001b[0m\u001b[0;34m]\u001b[0m \u001b[0;34m=\u001b[0m \u001b[0mdata\u001b[0m\u001b[0;34m.\u001b[0m\u001b[0mtime\u001b[0m\u001b[0;34m.\u001b[0m\u001b[0mapply\u001b[0m\u001b[0;34m(\u001b[0m\u001b[0;32mlambda\u001b[0m \u001b[0mx\u001b[0m\u001b[0;34m:\u001b[0m \u001b[0;34m\"day\"\u001b[0m \u001b[0;32mif\u001b[0m \u001b[0;34m(\u001b[0m\u001b[0;34m(\u001b[0m\u001b[0mx\u001b[0m \u001b[0;34m>\u001b[0m \u001b[0mdatetime\u001b[0m\u001b[0;34m.\u001b[0m\u001b[0mtime\u001b[0m\u001b[0;34m(\u001b[0m\u001b[0;36m06\u001b[0m\u001b[0;34m,\u001b[0m\u001b[0;36m00\u001b[0m\u001b[0;34m,\u001b[0m\u001b[0;36m00\u001b[0m\u001b[0;34m)\u001b[0m\u001b[0;34m)\u001b[0m \u001b[0;34m&\u001b[0m \u001b[0;34m(\u001b[0m\u001b[0mx\u001b[0m \u001b[0;34m<\u001b[0m \u001b[0mdatetime\u001b[0m\u001b[0;34m.\u001b[0m\u001b[0mtime\u001b[0m\u001b[0;34m(\u001b[0m\u001b[0;36m18\u001b[0m\u001b[0;34m,\u001b[0m\u001b[0;36m00\u001b[0m\u001b[0;34m,\u001b[0m\u001b[0;36m00\u001b[0m\u001b[0;34m)\u001b[0m\u001b[0;34m)\u001b[0m \u001b[0;34m)\u001b[0m \u001b[0;32melse\u001b[0m \u001b[0;34m\"night\"\u001b[0m\u001b[0;34m)\u001b[0m\u001b[0;34m\u001b[0m\u001b[0m\n\u001b[0m",
      "\u001b[0;31mNameError\u001b[0m: name 'data' is not defined"
     ]
    }
   ],
   "source": [
    "data[\"timezone\"] = data.time.apply(lambda x: \"day\" if ((x > datetime.time(06,00,00)) & (x < datetime.time(18,00,00)) ) else \"night\")"
   ]
  },
  {
   "cell_type": "code",
   "execution_count": 63,
   "metadata": {
    "collapsed": false
   },
   "outputs": [
    {
     "ename": "AttributeError",
     "evalue": "'DataFrame' object has no attribute 'timezone'",
     "output_type": "error",
     "traceback": [
      "\u001b[0;31m---------------------------------------------------------------------------\u001b[0m",
      "\u001b[0;31mAttributeError\u001b[0m                            Traceback (most recent call last)",
      "\u001b[0;32m<ipython-input-63-afeaab744858>\u001b[0m in \u001b[0;36m<module>\u001b[0;34m()\u001b[0m\n\u001b[0;32m----> 1\u001b[0;31m \u001b[0mday_time\u001b[0m \u001b[0;34m=\u001b[0m \u001b[0mdata\u001b[0m\u001b[0;34m[\u001b[0m\u001b[0mdata\u001b[0m\u001b[0;34m.\u001b[0m\u001b[0mtimezone\u001b[0m\u001b[0;34m==\u001b[0m\u001b[0;34m\"day\"\u001b[0m\u001b[0;34m]\u001b[0m\u001b[0;34m\u001b[0m\u001b[0m\n\u001b[0m\u001b[1;32m      2\u001b[0m \u001b[0mnight_time\u001b[0m \u001b[0;34m=\u001b[0m \u001b[0mdata\u001b[0m\u001b[0;34m[\u001b[0m\u001b[0mdata\u001b[0m\u001b[0;34m.\u001b[0m\u001b[0mtimezone\u001b[0m\u001b[0;34m==\u001b[0m\u001b[0;34m\"night\"\u001b[0m\u001b[0;34m]\u001b[0m\u001b[0;34m\u001b[0m\u001b[0m\n\u001b[1;32m      3\u001b[0m \u001b[0;34m\u001b[0m\u001b[0m\n\u001b[1;32m      4\u001b[0m \u001b[0mDage\u001b[0m \u001b[0;34m=\u001b[0m \u001b[0mnp\u001b[0m\u001b[0;34m.\u001b[0m\u001b[0marray\u001b[0m\u001b[0;34m(\u001b[0m\u001b[0mday_time\u001b[0m\u001b[0;34m.\u001b[0m\u001b[0mage\u001b[0m\u001b[0;34m)\u001b[0m\u001b[0;34m\u001b[0m\u001b[0m\n\u001b[1;32m      5\u001b[0m \u001b[0mNage\u001b[0m \u001b[0;34m=\u001b[0m \u001b[0mnp\u001b[0m\u001b[0;34m.\u001b[0m\u001b[0marray\u001b[0m\u001b[0;34m(\u001b[0m\u001b[0mnight_time\u001b[0m\u001b[0;34m.\u001b[0m\u001b[0mage\u001b[0m\u001b[0;34m)\u001b[0m\u001b[0;34m\u001b[0m\u001b[0m\n",
      "\u001b[0;32m/opt/rh/anaconda/root/envs/PUI2016_Python3/lib/python3.5/site-packages/pandas/core/generic.py\u001b[0m in \u001b[0;36m__getattr__\u001b[0;34m(self, name)\u001b[0m\n\u001b[1;32m   2670\u001b[0m             \u001b[0;32mif\u001b[0m \u001b[0mname\u001b[0m \u001b[0;32min\u001b[0m \u001b[0mself\u001b[0m\u001b[0;34m.\u001b[0m\u001b[0m_info_axis\u001b[0m\u001b[0;34m:\u001b[0m\u001b[0;34m\u001b[0m\u001b[0m\n\u001b[1;32m   2671\u001b[0m                 \u001b[0;32mreturn\u001b[0m \u001b[0mself\u001b[0m\u001b[0;34m[\u001b[0m\u001b[0mname\u001b[0m\u001b[0;34m]\u001b[0m\u001b[0;34m\u001b[0m\u001b[0m\n\u001b[0;32m-> 2672\u001b[0;31m             \u001b[0;32mreturn\u001b[0m \u001b[0mobject\u001b[0m\u001b[0;34m.\u001b[0m\u001b[0m__getattribute__\u001b[0m\u001b[0;34m(\u001b[0m\u001b[0mself\u001b[0m\u001b[0;34m,\u001b[0m \u001b[0mname\u001b[0m\u001b[0;34m)\u001b[0m\u001b[0;34m\u001b[0m\u001b[0m\n\u001b[0m\u001b[1;32m   2673\u001b[0m \u001b[0;34m\u001b[0m\u001b[0m\n\u001b[1;32m   2674\u001b[0m     \u001b[0;32mdef\u001b[0m \u001b[0m__setattr__\u001b[0m\u001b[0;34m(\u001b[0m\u001b[0mself\u001b[0m\u001b[0;34m,\u001b[0m \u001b[0mname\u001b[0m\u001b[0;34m,\u001b[0m \u001b[0mvalue\u001b[0m\u001b[0;34m)\u001b[0m\u001b[0;34m:\u001b[0m\u001b[0;34m\u001b[0m\u001b[0m\n",
      "\u001b[0;31mAttributeError\u001b[0m: 'DataFrame' object has no attribute 'timezone'"
     ]
    }
   ],
   "source": [
    "day_time = data[data.timezone==\"day\"]\n",
    "night_time = data[data.timezone==\"night\"]\n",
    "\n",
    "Dage = np.array(day_time.age)\n",
    "Nage = np.array(night_time.age)\n",
    "\n",
    "indexD = np.random.permutation(50000)\n",
    "indexN = np.random.permutation(50000)\n",
    "\n",
    "D_age = sorted(D_age[indexD])\n",
    "N_age = sorted(N_age[indexN])\n",
    "\n",
    "scipy.stats.pearsonr(D_age,N_age)"
   ]
  },
  {
   "cell_type": "code",
   "execution_count": null,
   "metadata": {
    "collapsed": true
   },
   "outputs": [],
   "source": []
  }
 ],
 "metadata": {
  "kernelspec": {
   "display_name": "PUI2016_Python2",
   "language": "python",
   "name": "pui2016_python2"
  },
  "language_info": {
   "codemirror_mode": {
    "name": "ipython",
    "version": 2
   },
   "file_extension": ".py",
   "mimetype": "text/x-python",
   "name": "python",
   "nbconvert_exporter": "python",
   "pygments_lexer": "ipython2",
   "version": "2.7.12"
  }
 },
 "nbformat": 4,
 "nbformat_minor": 0
}
